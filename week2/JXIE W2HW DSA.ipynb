{
 "cells": [
  {
   "cell_type": "code",
   "execution_count": 1,
   "metadata": {},
   "outputs": [],
   "source": [
    "import numpy as np"
   ]
  },
  {
   "cell_type": "code",
   "execution_count": 2,
   "metadata": {},
   "outputs": [
    {
     "data": {
      "text/plain": [
       "[nan, nan, nan, nan, 1, nan, nan, nan, nan, nan]"
      ]
     },
     "execution_count": 2,
     "metadata": {},
     "output_type": "execute_result"
    }
   ],
   "source": [
    "#1. Create a null array of size 10 but the fifth value which is 1\n",
    "\n",
    "s01 = [np.nan for i in range(10)]\n",
    "s01[4] = 1\n",
    "s01"
   ]
  },
  {
   "cell_type": "code",
   "execution_count": 3,
   "metadata": {},
   "outputs": [
    {
     "data": {
      "text/plain": [
       "[nan, nan, nan, nan, nan, 1, nan, nan, nan, nan]"
      ]
     },
     "execution_count": 3,
     "metadata": {},
     "output_type": "execute_result"
    }
   ],
   "source": [
    "#2. Reverse a above created array (first element becomes last)\n",
    "\n",
    "s02 = s01[::-1]\n",
    "s02"
   ]
  },
  {
   "cell_type": "code",
   "execution_count": 4,
   "metadata": {},
   "outputs": [
    {
     "data": {
      "text/plain": [
       "matrix([[0, 1, 2],\n",
       "        [3, 4, 5],\n",
       "        [6, 7, 8]])"
      ]
     },
     "execution_count": 4,
     "metadata": {},
     "output_type": "execute_result"
    }
   ],
   "source": [
    "#3. Create a 3x3 matrix with values ranging from 0 to 8\n",
    "\n",
    "s03 = np.matrix([[i for i in range(3*j,3*(j+1))] for j in range(3)])\n",
    "s03 "
   ]
  },
  {
   "cell_type": "code",
   "execution_count": 5,
   "metadata": {},
   "outputs": [
    {
     "data": {
      "text/plain": [
       "(array([0, 1, 4]),)"
      ]
     },
     "execution_count": 5,
     "metadata": {},
     "output_type": "execute_result"
    }
   ],
   "source": [
    "#4. Find indices of non-zero elements from [1,2,0,0,4,0]\n",
    "\n",
    "s04 = np.nonzero([1,2,0,0,4,0])\n",
    "s04"
   ]
  },
  {
   "cell_type": "code",
   "execution_count": 6,
   "metadata": {},
   "outputs": [
    {
     "data": {
      "text/plain": [
       "matrix([[0.53047151, 0.45878909, 0.50781299],\n",
       "        [0.41374376, 0.32683495, 0.38670502],\n",
       "        [0.73080565, 0.10761617, 0.75064603]])"
      ]
     },
     "execution_count": 6,
     "metadata": {},
     "output_type": "execute_result"
    }
   ],
   "source": [
    "#5. Create a 3x3x3 array with random values\n",
    "\n",
    "import random \n",
    "s05 = np.matrix([[random.random() for i in range(3)] for j in range(3)])\n",
    "s05"
   ]
  },
  {
   "cell_type": "code",
   "execution_count": 7,
   "metadata": {},
   "outputs": [
    {
     "name": "stdout",
     "output_type": "stream",
     "text": [
      "[[0.72995477 0.15346331 0.4557946  0.98143905 0.68012778 0.65499937\n",
      "  0.63595723 0.77126031 0.78549622 0.40373972]\n",
      " [0.87224182 0.29609143 0.21358759 0.93116027 0.94201821 0.16820637\n",
      "  0.95096146 0.16463358 0.15332458 0.21569604]\n",
      " [0.94999825 0.2747788  0.92698969 0.88021611 0.7858541  0.5049919\n",
      "  0.21869219 0.37186317 0.67557633 0.67255911]\n",
      " [0.92074451 0.70036455 0.37865183 0.10426697 0.25077261 0.2440313\n",
      "  0.41139582 0.11504398 0.74171851 0.35583902]\n",
      " [0.09005575 0.96351708 0.37680408 0.3353873  0.33983635 0.8785202\n",
      "  0.18371629 0.01404329 0.07096099 0.01048517]\n",
      " [0.78426044 0.91186605 0.4252937  0.37233184 0.40519174 0.21884977\n",
      "  0.18207345 0.84317065 0.5205806  0.1431047 ]\n",
      " [0.00830375 0.90580252 0.58073849 0.90557259 0.43625394 0.31299412\n",
      "  0.89432867 0.3979606  0.17072907 0.36160727]\n",
      " [0.85437467 0.78296411 0.26201389 0.75198008 0.8208294  0.64124901\n",
      "  0.00672511 0.39718007 0.50079165 0.65630321]\n",
      " [0.9091724  0.24314245 0.74082776 0.46199219 0.26854626 0.66223282\n",
      "  0.71187787 0.27212429 0.08192014 0.95297431]\n",
      " [0.19373548 0.20640114 0.8491009  0.88450272 0.33143726 0.43888924\n",
      "  0.32379496 0.81015256 0.31885019 0.15907581]]\n",
      "\n",
      "Max value is 0.9814390518477533; min value is 0.0067251140814557075\n"
     ]
    }
   ],
   "source": [
    "#6. Create a 10x10 array with random values and find the minimum and maximum values\n",
    "\n",
    "s06 = np.matrix([[random.random() for i in range(10)] for j in range(10)])\n",
    "print(s06)\n",
    "print()\n",
    "print(\"Max value is {}; min value is {}\".format(s06.max(), s06.min()))"
   ]
  },
  {
   "cell_type": "code",
   "execution_count": 8,
   "metadata": {},
   "outputs": [
    {
     "name": "stdout",
     "output_type": "stream",
     "text": [
      "[0.12723406 0.73658818 0.4832701  0.79820875 0.84687453 0.53045642\n",
      " 0.30318476 0.86082911 0.92199336 0.37855975 0.88113814 0.62032714\n",
      " 0.73287608 0.93283159 0.47123445 0.20181028 0.27216182 0.56065874\n",
      " 0.5062867  0.05377001 0.27720056 0.85556916 0.61211751 0.28693051\n",
      " 0.8930321  0.4452626  0.20666668 0.2404623  0.79397751 0.68888937]\n",
      "\n",
      "Mean: 0.550680075503625\n"
     ]
    }
   ],
   "source": [
    "#7. Create a random vector of size 30 and find the mean value\n",
    "\n",
    "s07 = np.random.random(30)\n",
    "print(s07)\n",
    "print()\n",
    "print(\"Mean: %s\" % np.mean(s07))"
   ]
  },
  {
   "cell_type": "code",
   "execution_count": 9,
   "metadata": {},
   "outputs": [
    {
     "data": {
      "text/plain": [
       "[[1, 1, 1, 1, 1, 1, 1],\n",
       " [1, 0, 0, 0, 0, 0, 1],\n",
       " [1, 0, 0, 0, 0, 0, 1],\n",
       " [1, 0, 0, 0, 0, 0, 1],\n",
       " [1, 1, 1, 1, 1, 1, 1]]"
      ]
     },
     "execution_count": 9,
     "metadata": {},
     "output_type": "execute_result"
    }
   ],
   "source": [
    "#8. Create a 2d array with 1 on the border and 0 inside\n",
    "\n",
    "rows, cols = (5,7)\n",
    "\n",
    "s08 = []\n",
    "for i in range(rows):\n",
    "    col = []\n",
    "    for j in range(cols):\n",
    "        col.append(1 if (i==0 or j==0 or i==rows-1 or j==cols-1) else 0)\n",
    "    s08.append(col)\n",
    "\n",
    "s08"
   ]
  },
  {
   "cell_type": "code",
   "execution_count": 10,
   "metadata": {},
   "outputs": [
    {
     "data": {
      "text/plain": [
       "array([[72, 24, 16, 64, 56],\n",
       "       [27,  9,  6, 24, 21]])"
      ]
     },
     "execution_count": 10,
     "metadata": {},
     "output_type": "execute_result"
    }
   ],
   "source": [
    "#9. Multiply a 5x3 matrix by a 3x2 matrix (real matrix product)\n",
    "\n",
    "p91 = [[np.random.randint(10) for i in range(5)] for j in range(3)]\n",
    "p92 = [[np.random.randint(10) for i in range(3)] for j in range(2)]\n",
    "\n",
    "s09 = np.matmul(p92, p91)\n",
    "s09"
   ]
  },
  {
   "cell_type": "code",
   "execution_count": 11,
   "metadata": {},
   "outputs": [
    {
     "name": "stdout",
     "output_type": "stream",
     "text": [
      "Original: [0.1660622  0.63445528 0.53800754 0.19955047 0.87658037]\n",
      "INT: [0, 1, 1, 0, 1]\n"
     ]
    }
   ],
   "source": [
    "#10. Extract the integer part of a random array\n",
    "\n",
    "s10 = np.random.random(5)\n",
    "print(\"Original: %s\" % s10)\n",
    "\n",
    "s10 = [int(np.round(i)) for i in s10]\n",
    "print(\"INT: %s\" % s10)"
   ]
  },
  {
   "cell_type": "code",
   "execution_count": 12,
   "metadata": {},
   "outputs": [
    {
     "data": {
      "text/plain": [
       "matrix([[0, 0, 0, 0, 0],\n",
       "        [1, 1, 1, 1, 1],\n",
       "        [2, 2, 2, 2, 2],\n",
       "        [3, 3, 3, 3, 3],\n",
       "        [4, 4, 4, 4, 4]])"
      ]
     },
     "execution_count": 12,
     "metadata": {},
     "output_type": "execute_result"
    }
   ],
   "source": [
    "#11. Create a 5x5 matrix with row values ranging from 0 to 4\n",
    "\n",
    "\n",
    "s11 = np.asmatrix([[i for j in range(5)] for i in range(5)])\n",
    "\n",
    "s11"
   ]
  },
  {
   "cell_type": "code",
   "execution_count": 13,
   "metadata": {},
   "outputs": [
    {
     "name": "stdout",
     "output_type": "stream",
     "text": [
      "[0.68931739 0.58558746 0.96658057 0.81254862 0.08655164 0.74730371\n",
      " 0.05405836 0.88242592 0.77611605 0.52717594]\n",
      "\n",
      "[0.05405836 0.08655164 0.52717594 0.58558746 0.68931739 0.74730371\n",
      " 0.77611605 0.81254862 0.88242592 0.96658057]\n"
     ]
    }
   ],
   "source": [
    "#12.  Create a random vector of size 10 and sort it\n",
    "\n",
    "s12 = np.random.random(10)\n",
    "print(s12)\n",
    "print()\n",
    "\n",
    "s12.sort()\n",
    "print(s12)"
   ]
  },
  {
   "cell_type": "code",
   "execution_count": 14,
   "metadata": {},
   "outputs": [
    {
     "name": "stdout",
     "output_type": "stream",
     "text": [
      "Is [0, 0, 3, 6, 9] equal to [3, 7, 7, 8, 9]? False\n"
     ]
    }
   ],
   "source": [
    "#13. Consider two random array A anb B, check if they are equal.\n",
    "\n",
    "p13a = [np.random.randint(10) for x in range(5)]\n",
    "p13b = [np.random.randint(10) for x in range(5)]\n",
    "\n",
    "p13a.sort()\n",
    "p13b.sort()\n",
    "\n",
    "print (\"Is {} equal to {}? {}\".format(p13a, p13b, p13a==p13b))"
   ]
  },
  {
   "cell_type": "code",
   "execution_count": 15,
   "metadata": {},
   "outputs": [],
   "source": [
    "import pandas as pd"
   ]
  },
  {
   "cell_type": "code",
   "execution_count": 16,
   "metadata": {},
   "outputs": [
    {
     "name": "stdout",
     "output_type": "stream",
     "text": [
      "[[nan], [nan], [nan], [nan], [3]]\n"
     ]
    }
   ],
   "source": [
    "#14. How to tell if a given 2D array has null columns?\n",
    "rows, cols = (np.random.randint(1,10), np.random.randint(1,10))\n",
    "x = np.random.randint(1,10)\n",
    "\n",
    "p14 = [[np.nan if np.random.randint(x)<2 else np.random.randint(10) for c in range(cols)] for r in range(rows)]\n",
    "print(p14)\n",
    "\n",
    "df = pd.DataFrame(p14)\n",
    "for c in df.columns:\n",
    "    if(pd.isnull(df[c]).all()):\n",
    "        print(\"Column %s is all null!\" % c)"
   ]
  },
  {
   "cell_type": "code",
   "execution_count": 17,
   "metadata": {},
   "outputs": [
    {
     "name": "stdout",
     "output_type": "stream",
     "text": [
      "[[[[0.92150081 0.15829421]\n",
      "   [0.74053694 0.28830273]]\n",
      "\n",
      "  [[0.17721395 0.16587304]\n",
      "   [0.25555324 0.75220039]]]\n",
      "\n",
      "\n",
      " [[[0.73512133 0.35802732]\n",
      "   [0.39828362 0.658083  ]]\n",
      "\n",
      "  [[0.93702357 0.18291004]\n",
      "   [0.04342869 0.95531125]]]]\n",
      "\n",
      "Sum over last two axes: [[2.10863468 1.35084062]\n",
      " [2.14951527 2.11867356]]\n"
     ]
    }
   ],
   "source": [
    "#15. Considering a four dimensions array, how to get sum over the last two axis at once?\n",
    "p15 = np.random.rand(2,2,2,2)\n",
    "print(p15)\n",
    "\n",
    "s15 = np.sum(p15, axis=(-1,-2))\n",
    "print(\"\\nSum over last two axes: %s\" % s15)"
   ]
  },
  {
   "cell_type": "code",
   "execution_count": 18,
   "metadata": {},
   "outputs": [
    {
     "data": {
      "text/plain": [
       "array([[[0.66085288, 0.62446329, 0.54622735, 0.93531937, 0.56825014],\n",
       "        [1.39281329, 1.45738479, 1.08298613, 1.30415708, 0.98879055],\n",
       "        [1.81219916, 1.90010524, 1.6127151 , 1.99226709, 1.45119725]],\n",
       "\n",
       "       [[1.20074789, 1.23594394, 1.22698098, 1.48206049, 1.0935367 ],\n",
       "        [1.17791336, 1.33968754, 1.03150113, 1.41266468, 0.89947373],\n",
       "        [1.53887339, 1.50404304, 1.22170738, 1.52051853, 1.18407563]],\n",
       "\n",
       "       [[1.23405657, 1.30305958, 1.0057384 , 1.23627672, 0.89690049],\n",
       "        [1.16356996, 1.12054992, 1.04934801, 0.77782601, 0.94615337],\n",
       "        [1.14441292, 1.2598562 , 1.005282  , 0.98733563, 0.84304666]],\n",
       "\n",
       "       [[1.14755264, 1.29297454, 0.8479501 , 1.035345  , 0.71216502],\n",
       "        [1.41466637, 1.36687067, 1.12079968, 1.26350638, 1.07389242],\n",
       "        [1.11660413, 1.06677672, 1.04215703, 0.78262448, 0.93300869]],\n",
       "\n",
       "       [[0.83345686, 0.77010124, 0.52015083, 0.82055924, 0.5701634 ],\n",
       "        [0.89035268, 0.9428368 , 0.65183307, 0.82113159, 0.59059484],\n",
       "        [1.6168081 , 1.73183532, 1.4898067 , 1.47471556, 1.27515148]]])"
      ]
     },
     "execution_count": 18,
     "metadata": {},
     "output_type": "execute_result"
    }
   ],
   "source": [
    "#16. Consider an array of dimension (5,5,3), how to mulitply it by an array with dimensions (5,5)?\n",
    "\n",
    "# not entirely sure whether dot or cross product is intended here?\n",
    "\n",
    "p16a = np.random.rand(5,5,3)\n",
    "p16b = np.random.rand(5,5)\n",
    "\n",
    "np.tensordot(p16a,p16b,axes=((1),(1)))"
   ]
  },
  {
   "cell_type": "code",
   "execution_count": 19,
   "metadata": {},
   "outputs": [
    {
     "name": "stdout",
     "output_type": "stream",
     "text": [
      "[[3 8 6 4 9 4 6 4 4 4]\n",
      " [6 6 7 1 9 6 6 3 1 4]\n",
      " [1 9 2 1 0 4 4 7 0 0]\n",
      " [9 7 5 6 6 4 0 8 7 1]\n",
      " [0 5 4 7 1 3 6 0 1 3]\n",
      " [8 9 4 6 3 3 4 0 6 6]\n",
      " [0 1 4 3 3 0 3 7 6 3]\n",
      " [6 7 1 4 9 4 6 6 9 1]\n",
      " [2 5 6 8 6 5 1 9 7 8]\n",
      " [0 2 6 5 5 0 2 3 1 1]]\n",
      "[[3 8 6]\n",
      " [6 6 7]\n",
      " [1 9 2]]\n",
      "[[8 6 4]\n",
      " [6 7 1]\n",
      " [9 2 1]]\n",
      "[[6 4 9]\n",
      " [7 1 9]\n",
      " [2 1 0]]\n",
      "[[4 9 4]\n",
      " [1 9 6]\n",
      " [1 0 4]]\n",
      "[[9 4 6]\n",
      " [9 6 6]\n",
      " [0 4 4]]\n",
      "[[4 6 4]\n",
      " [6 6 3]\n",
      " [4 4 7]]\n",
      "[[6 4 4]\n",
      " [6 3 1]\n",
      " [4 7 0]]\n",
      "[[4 4 4]\n",
      " [3 1 4]\n",
      " [7 0 0]]\n",
      "[[6 6 7]\n",
      " [1 9 2]\n",
      " [9 7 5]]\n",
      "[[6 7 1]\n",
      " [9 2 1]\n",
      " [7 5 6]]\n",
      "[[7 1 9]\n",
      " [2 1 0]\n",
      " [5 6 6]]\n",
      "[[1 9 6]\n",
      " [1 0 4]\n",
      " [6 6 4]]\n",
      "[[9 6 6]\n",
      " [0 4 4]\n",
      " [6 4 0]]\n",
      "[[6 6 3]\n",
      " [4 4 7]\n",
      " [4 0 8]]\n",
      "[[6 3 1]\n",
      " [4 7 0]\n",
      " [0 8 7]]\n",
      "[[3 1 4]\n",
      " [7 0 0]\n",
      " [8 7 1]]\n",
      "[[1 9 2]\n",
      " [9 7 5]\n",
      " [0 5 4]]\n",
      "[[9 2 1]\n",
      " [7 5 6]\n",
      " [5 4 7]]\n",
      "[[2 1 0]\n",
      " [5 6 6]\n",
      " [4 7 1]]\n",
      "[[1 0 4]\n",
      " [6 6 4]\n",
      " [7 1 3]]\n",
      "[[0 4 4]\n",
      " [6 4 0]\n",
      " [1 3 6]]\n",
      "[[4 4 7]\n",
      " [4 0 8]\n",
      " [3 6 0]]\n",
      "[[4 7 0]\n",
      " [0 8 7]\n",
      " [6 0 1]]\n",
      "[[7 0 0]\n",
      " [8 7 1]\n",
      " [0 1 3]]\n",
      "[[9 7 5]\n",
      " [0 5 4]\n",
      " [8 9 4]]\n",
      "[[7 5 6]\n",
      " [5 4 7]\n",
      " [9 4 6]]\n",
      "[[5 6 6]\n",
      " [4 7 1]\n",
      " [4 6 3]]\n",
      "[[6 6 4]\n",
      " [7 1 3]\n",
      " [6 3 3]]\n",
      "[[6 4 0]\n",
      " [1 3 6]\n",
      " [3 3 4]]\n",
      "[[4 0 8]\n",
      " [3 6 0]\n",
      " [3 4 0]]\n",
      "[[0 8 7]\n",
      " [6 0 1]\n",
      " [4 0 6]]\n",
      "[[8 7 1]\n",
      " [0 1 3]\n",
      " [0 6 6]]\n",
      "[[0 5 4]\n",
      " [8 9 4]\n",
      " [0 1 4]]\n",
      "[[5 4 7]\n",
      " [9 4 6]\n",
      " [1 4 3]]\n",
      "[[4 7 1]\n",
      " [4 6 3]\n",
      " [4 3 3]]\n",
      "[[7 1 3]\n",
      " [6 3 3]\n",
      " [3 3 0]]\n",
      "[[1 3 6]\n",
      " [3 3 4]\n",
      " [3 0 3]]\n",
      "[[3 6 0]\n",
      " [3 4 0]\n",
      " [0 3 7]]\n",
      "[[6 0 1]\n",
      " [4 0 6]\n",
      " [3 7 6]]\n",
      "[[0 1 3]\n",
      " [0 6 6]\n",
      " [7 6 3]]\n",
      "[[8 9 4]\n",
      " [0 1 4]\n",
      " [6 7 1]]\n",
      "[[9 4 6]\n",
      " [1 4 3]\n",
      " [7 1 4]]\n",
      "[[4 6 3]\n",
      " [4 3 3]\n",
      " [1 4 9]]\n",
      "[[6 3 3]\n",
      " [3 3 0]\n",
      " [4 9 4]]\n",
      "[[3 3 4]\n",
      " [3 0 3]\n",
      " [9 4 6]]\n",
      "[[3 4 0]\n",
      " [0 3 7]\n",
      " [4 6 6]]\n",
      "[[4 0 6]\n",
      " [3 7 6]\n",
      " [6 6 9]]\n",
      "[[0 6 6]\n",
      " [7 6 3]\n",
      " [6 9 1]]\n",
      "[[0 1 4]\n",
      " [6 7 1]\n",
      " [2 5 6]]\n",
      "[[1 4 3]\n",
      " [7 1 4]\n",
      " [5 6 8]]\n",
      "[[4 3 3]\n",
      " [1 4 9]\n",
      " [6 8 6]]\n",
      "[[3 3 0]\n",
      " [4 9 4]\n",
      " [8 6 5]]\n",
      "[[3 0 3]\n",
      " [9 4 6]\n",
      " [6 5 1]]\n",
      "[[0 3 7]\n",
      " [4 6 6]\n",
      " [5 1 9]]\n",
      "[[3 7 6]\n",
      " [6 6 9]\n",
      " [1 9 7]]\n",
      "[[7 6 3]\n",
      " [6 9 1]\n",
      " [9 7 8]]\n",
      "[[6 7 1]\n",
      " [2 5 6]\n",
      " [0 2 6]]\n",
      "[[7 1 4]\n",
      " [5 6 8]\n",
      " [2 6 5]]\n",
      "[[1 4 9]\n",
      " [6 8 6]\n",
      " [6 5 5]]\n",
      "[[4 9 4]\n",
      " [8 6 5]\n",
      " [5 5 0]]\n",
      "[[9 4 6]\n",
      " [6 5 1]\n",
      " [5 0 2]]\n",
      "[[4 6 6]\n",
      " [5 1 9]\n",
      " [0 2 3]]\n",
      "[[6 6 9]\n",
      " [1 9 7]\n",
      " [2 3 1]]\n",
      "[[6 9 1]\n",
      " [9 7 8]\n",
      " [3 1 1]]\n",
      "64\n"
     ]
    }
   ],
   "source": [
    "#17. Extract all the contiguous 3x3 blocks from a random 10x10 matrix\n",
    "\n",
    "rows, cols = (10, 10)\n",
    "\n",
    "m17 = np.matrix([[np.random.randint(10) for y in range(cols)] for x in range(rows)])\n",
    "print(m17)\n",
    "\n",
    "blocks = []\n",
    "for i in range(8):\n",
    "    for j in range(8):\n",
    "        block = m17[i:i+3, j:j+3]\n",
    "        print(block)\n",
    "        blocks.append(block)\n",
    "\n",
    "print(len(blocks))"
   ]
  },
  {
   "cell_type": "code",
   "execution_count": 20,
   "metadata": {
    "scrolled": false
   },
   "outputs": [
    {
     "name": "stdout",
     "output_type": "stream",
     "text": [
      "[[9 5 8 2 9 1 5 2 3 1 3 0 3 3 0 3]\n",
      " [9 7 5 8 5 4 5 6 5 1 0 7 2 3 3 5]\n",
      " [0 1 8 9 1 8 7 8 0 4 6 1 3 0 8 6]\n",
      " [7 3 2 7 1 7 1 1 7 3 2 7 0 6 7 1]\n",
      " [6 8 7 2 9 3 5 4 8 3 6 0 8 5 1 2]\n",
      " [8 0 0 3 7 9 2 9 3 1 6 9 9 0 4 0]\n",
      " [2 9 8 2 0 1 3 4 2 6 6 3 4 8 1 5]\n",
      " [0 0 6 9 2 9 1 9 9 6 1 6 5 0 2 5]\n",
      " [1 7 2 6 4 4 6 7 8 6 7 7 2 7 9 0]\n",
      " [2 6 3 4 5 7 9 2 8 3 7 0 2 6 2 4]\n",
      " [8 2 4 6 4 6 7 5 8 6 7 4 9 3 7 6]\n",
      " [9 6 0 9 1 6 6 5 2 7 1 9 6 8 2 5]\n",
      " [3 8 8 5 8 2 3 9 8 1 9 9 0 0 2 4]\n",
      " [7 3 4 8 1 4 9 1 3 0 5 5 1 1 6 0]\n",
      " [1 6 0 3 1 7 2 1 7 3 5 8 7 4 4 9]\n",
      " [0 4 0 5 7 3 9 4 5 3 1 4 6 1 8 6]]\n",
      "[[ 30  43  53  49  42  39  37  31  28  21  20  17  21  21  22  17]\n",
      " [ 31  52  71  68  68  64  61  54  47  39  31  31  31  33  39  31]\n",
      " [ 41  64  90  81  85  80  71  70  59  52  50  43  46  53  53  45]\n",
      " [ 41  63  89  83  86  82  75  79  68  64  60  53  56  61  60  47]\n",
      " [ 33  50  71  68  83  81  82  82  66  71  66  68  68  68  60  40]\n",
      " [ 43  60  74  68  68  62  66  69  62  71  72  73  79  72  61  40]\n",
      " [ 33  54  70  72  77  67  77  81  75  83  75  79  76  65  59  33]\n",
      " [ 27  43  63  65  72  68  77  86  82  90  86  84  80  76  61  41]\n",
      " [ 27  46  67  73  72  72  73  89  89  91  85  71  71  64  62  49]\n",
      " [ 26  41  66  70  81  89  87 105 100  99  93  78  73  71  69  51]\n",
      " [ 41  50  75  69  71  90  84  96  95  89  90  83  85  83  78  59]\n",
      " [ 44  59  83  79  78  88  85  93  89  88  89  80  80  69  66  49]\n",
      " [ 46  62  90  77  76  85  77  84  80  77  84  79  77  72  60  44]\n",
      " [ 43  55  80  71  67  75  66  75  67  67  82  76  78  72  59  45]\n",
      " [ 32  44  65  71  66  77  71  77  68  65  76  67  66  66  59  45]\n",
      " [ 21  25  41  42  43  59  49  55  47  38  49  48  48  55  53  39]]\n"
     ]
    }
   ],
   "source": [
    "#18. Consider a 16x16 array, how to get the block-sum (block size is 4x4)?\n",
    "\n",
    "#If I understand the concept of blocksums correctly, they should only be able to be odd numbers as in 3x3, 5x5;\n",
    "#not entirely sure how to do a 4x4 unless it's a bit different from my understanding\n",
    "\n",
    "rows, cols = (16, 16)\n",
    "\n",
    "m18 = np.matrix([[np.random.randint(10) for y in range(cols)] for x in range(rows)])\n",
    "print(m18)\n",
    "\n",
    "s18 = np.matrix([[0 for y in range(cols)] for x in range(rows)])\n",
    "\n",
    "for r in range(rows):\n",
    "    for c in range(cols):\n",
    "        s18[r,c] = np.sum(m18[max(0,r-2):min(rows,r+2), max(0,c-2):min(cols,c+2)])\n",
    "\n",
    "print(s18)"
   ]
  },
  {
   "cell_type": "code",
   "execution_count": 21,
   "metadata": {},
   "outputs": [],
   "source": [
    "import scipy.stats as stats"
   ]
  },
  {
   "cell_type": "code",
   "execution_count": 22,
   "metadata": {},
   "outputs": [
    {
     "data": {
      "text/plain": [
       "Ttest_indResult(statistic=array([ 0.67539166, -0.32938416, -1.63993885]), pvalue=array([0.53645778, 0.75839113, 0.17636134]))"
      ]
     },
     "execution_count": 22,
     "metadata": {},
     "output_type": "execute_result"
    }
   ],
   "source": [
    "#19. Generate 2 random gaussian distributions and run a t-test to see differences\n",
    "\n",
    "p19a = np.random.normal(size=(3,3))\n",
    "p19b = np.random.normal(size=(3,3))\n",
    "\n",
    "stats.ttest_ind(a=p19a, b=p19b, equal_var=True)"
   ]
  }
 ],
 "metadata": {
  "hide_input": false,
  "kernelspec": {
   "display_name": "Python 3",
   "language": "python",
   "name": "python3"
  },
  "language_info": {
   "codemirror_mode": {
    "name": "ipython",
    "version": 3
   },
   "file_extension": ".py",
   "mimetype": "text/x-python",
   "name": "python",
   "nbconvert_exporter": "python",
   "pygments_lexer": "ipython3",
   "version": "3.6.6"
  }
 },
 "nbformat": 4,
 "nbformat_minor": 4
}
